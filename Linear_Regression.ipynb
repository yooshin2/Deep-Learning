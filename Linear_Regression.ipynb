{
  "nbformat": 4,
  "nbformat_minor": 0,
  "metadata": {
    "colab": {
      "name": "Linear_Regression.ipynb",
      "provenance": [],
      "authorship_tag": "ABX9TyN/OLCUEcgHO66j7HjZNmzU",
      "include_colab_link": true
    },
    "kernelspec": {
      "name": "python3",
      "display_name": "Python 3"
    }
  },
  "cells": [
    {
      "cell_type": "markdown",
      "metadata": {
        "id": "view-in-github",
        "colab_type": "text"
      },
      "source": [
        "<a href=\"https://colab.research.google.com/github/yooshin2/Deep-Learning/blob/main/Linear_Regression.ipynb\" target=\"_parent\"><img src=\"https://colab.research.google.com/assets/colab-badge.svg\" alt=\"Open In Colab\"/></a>"
      ]
    },
    {
      "cell_type": "code",
      "metadata": {
        "id": "5_cONppTIF4o"
      },
      "source": [
        "true_x = [0, 1, 2, 3, 4, 5, 6, 7, 8, 9]\r\n",
        "true_y = [1, 1, 2, 4, 5, 7, 8, 9, 9, 10]"
      ],
      "execution_count": 34,
      "outputs": []
    },
    {
      "cell_type": "code",
      "metadata": {
        "colab": {
          "base_uri": "https://localhost:8080/",
          "height": 265
        },
        "id": "-uYwps37mvX7",
        "outputId": "33bef833-c29e-4460-880a-3a0d6f449fd4"
      },
      "source": [
        "import matplotlib.pyplot as plt\r\n",
        "plt.scatter(true_x, true_y)\r\n",
        "plt.show()"
      ],
      "execution_count": 35,
      "outputs": [
        {
          "output_type": "display_data",
          "data": {
            "image/png": "[encoded data removed]",
            "text/plain": [
              "<Figure size 432x288 with 1 Axes>"
            ]
          },
          "metadata": {
            "tags": [],
            "needs_background": "light"
          }
        }
      ]
    },
    {
      "cell_type": "code",
      "metadata": {
        "colab": {
          "base_uri": "https://localhost:8080/"
        },
        "id": "kLJgwfCYmvsR",
        "outputId": "55a26870-63d5-4cac-b1f0-de15529d9a01"
      },
      "source": [
        "class H():\r\n",
        "  \r\n",
        "    def __init__(self, w): \r\n",
        "        self.w = w\r\n",
        "    \r\n",
        "    def forward(self, x):\r\n",
        "        return self.w * x\r\n",
        "\r\n",
        "def cost(pred_y, true_y):\r\n",
        "    error = 0\r\n",
        "    for i in range(len(true_x)):\r\n",
        "        error += (pred_y[i] - true_y[i]) ** 2\r\n",
        "    error = error / len(true_x)\r\n",
        "    return error\r\n",
        "\r\n",
        "h = H(4)\r\n",
        "pred_y = [h.forward(true_x[i]) for i in range(len(true_x))]\r\n",
        "cost(pred_y, true_y)"
      ],
      "execution_count": 49,
      "outputs": [
        {
          "output_type": "execute_result",
          "data": {
            "text/plain": [
              "222.2"
            ]
          },
          "metadata": {
            "tags": []
          },
          "execution_count": 49
        }
      ]
    },
    {
      "cell_type": "code",
      "metadata": {
        "colab": {
          "base_uri": "https://localhost:8080/",
          "height": 279
        },
        "id": "J26x-kitr-nB",
        "outputId": "cca84619-cf80-4043-d881-b3f8a0a3afff"
      },
      "source": [
        "list_w = []\r\n",
        "list_c = []\r\n",
        "for i in range(-20, 20):\r\n",
        "    w = i * 0.5\r\n",
        "    h = H(w)\r\n",
        "    pred_y = [h.forward(true_x[i]) for i in range(len(true_x))]\r\n",
        "    c = cost(pred_y, true_y)\r\n",
        "    list_w.append(w)\r\n",
        "    list_c.append(c)\r\n",
        "\r\n",
        "plt.xlabel('w')\r\n",
        "plt.ylabel('cost')\r\n",
        "plt.scatter(list_w, list_c, s=5)\r\n",
        "plt.show()"
      ],
      "execution_count": 50,
      "outputs": [
        {
          "output_type": "display_data",
          "data": {
            "image/png": "[encoded data removed]",
            "text/plain": [
              "<Figure size 432x288 with 1 Axes>"
            ]
          },
          "metadata": {
            "tags": [],
            "needs_background": "light"
          }
        }
      ]
    },
    {
      "cell_type": "code",
      "metadata": {
        "colab": {
          "base_uri": "https://localhost:8080/",
          "height": 282
        },
        "id": "jVMCJcBsvp5K",
        "outputId": "aabb5f89-942c-4b3c-daee-e896a2aa46ff"
      },
      "source": [
        "def cal_grad1(w):\r\n",
        "    h = H(w)\r\n",
        "    pred_y = [h.forward(true_x[i]) for i in range(len(true_x))]\r\n",
        "    cost1 = cost(pred_y, true_y)\r\n",
        "    epsil = 0.00001 \r\n",
        "    h = H(w + epsil)\r\n",
        "    pred_y = [h.forward(true_x[i]) for i in range(len(true_x))]\r\n",
        "    cost2 = cost(pred_y, true_y)\r\n",
        "    dcost = cost2 - cost1\r\n",
        "    dw = epsil\r\n",
        "    grad = dcost / dw\r\n",
        "\r\n",
        "    return grad, (cost1 + cost2) / 2\r\n",
        "\r\n",
        "def cal_grad2(w):\r\n",
        "    h = H(w)\r\n",
        "    pred_y = [h.forward(true_x[i]) for i in range(len(true_x))]\r\n",
        "    grad = 0\r\n",
        "    for i in range(len(true_y)):\r\n",
        "        grad += 2 * (pred_y[i] - true_y[i]) * true_x[i]\r\n",
        "    grad = grad / len(true_x)\r\n",
        "    c = cost(pred_y, true_y)\r\n",
        "\r\n",
        "    return grad, c\r\n",
        "\r\n",
        "w1 = 1.4\r\n",
        "w2 = 1.4\r\n",
        "lr = 0.01\r\n",
        "\r\n",
        "list_w1 = []\r\n",
        "list_c1 = []\r\n",
        "list_w2 = []\r\n",
        "list_c2 = []\r\n",
        "\r\n",
        "for i in range(100):\r\n",
        "    grad1, mean_cost1 = cal_grad1(w1)\r\n",
        "    grad2, mean_cost2 = cal_grad2(w2)\r\n",
        "\r\n",
        "    w1 -= lr * grad1\r\n",
        "    w2 -= lr * grad2\r\n",
        "    list_w1.append(w1)\r\n",
        "    list_w2.append(w2)\r\n",
        "    list_c1.append(mean_cost1)\r\n",
        "    list_c2.append(mean_cost2)\r\n",
        "\r\n",
        "print(w1, mean_cost1, w2, mean_cost2)\r\n",
        "\r\n",
        "plt.scatter(list_w1, list_c1, label='analytic', marker='*')\r\n",
        "plt.scatter(list_w2, list_c2, label='formula')\r\n",
        "plt.legend()\r\n",
        "plt.show()"
      ],
      "execution_count": 64,
      "outputs": [
        {
          "output_type": "stream",
          "text": [
            "1.2105213157896242 0.43684210597565787 1.2105263157894737 0.43684210526315803\n"
          ],
          "name": "stdout"
        },
        {
          "output_type": "display_data",
          "data": {
            "image/png": "[encoded data removed]",
            "text/plain": [
              "<Figure size 432x288 with 1 Axes>"
            ]
          },
          "metadata": {
            "tags": [],
            "needs_background": "light"
          }
        }
      ]
    },
    {
      "cell_type": "code",
      "metadata": {
        "colab": {
          "base_uri": "https://localhost:8080/",
          "height": 282
        },
        "id": "rwhM_Ny4EZ1K",
        "outputId": "f2f202be-20be-46cb-cd9b-7d18fd1a55fb"
      },
      "source": [
        "w1 = 1.4\r\n",
        "w2 = 1.1\r\n",
        "lr = 0.01\r\n",
        "\r\n",
        "list_w1 = []\r\n",
        "list_c1 = []\r\n",
        "list_w2 = []\r\n",
        "list_c2 = []\r\n",
        "\r\n",
        "for i in range(100):\r\n",
        "    grad1, mean_cost1 = cal_grad2(w1)\r\n",
        "    grad2, mean_cost2 = cal_grad2(w2)\r\n",
        "\r\n",
        "    w1 -= lr * grad1\r\n",
        "    w2 -= lr * grad2\r\n",
        "    list_w1.append(w1)\r\n",
        "    list_w2.append(w2)\r\n",
        "    list_c1.append(mean_cost1)\r\n",
        "    list_c2.append(mean_cost2)\r\n",
        "\r\n",
        "print(w1, mean_cost1, w2, mean_cost2)\r\n",
        "  \r\n",
        "plt.scatter(list_w1, list_c1, label='start from w=1.4', marker='*')\r\n",
        "plt.scatter(list_w2, list_c2, label='start from w=1.1')\r\n",
        "plt.legend()\r\n",
        "plt.show()"
      ],
      "execution_count": 73,
      "outputs": [
        {
          "output_type": "stream",
          "text": [
            "1.2105263157894737 0.43684210526315803 1.2105263157894737 0.43684210526315803\n"
          ],
          "name": "stdout"
        },
        {
          "output_type": "display_data",
          "data": {
            "image/png": "[encoded data removed]",
            "text/plain": [
              "<Figure size 432x288 with 1 Axes>"
            ]
          },
          "metadata": {
            "tags": [],
            "needs_background": "light"
          }
        }
      ]
    }
  ]
}