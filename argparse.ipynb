{
  "nbformat": 4,
  "nbformat_minor": 0,
  "metadata": {
    "colab": {
      "name": "argparse.ipynb",
      "provenance": [],
      "authorship_tag": "ABX9TyOCC7UfsrtXUwhh2SS1+CZU",
      "include_colab_link": true
    },
    "kernelspec": {
      "name": "python3",
      "display_name": "Python 3"
    }
  },
  "cells": [
    {
      "cell_type": "markdown",
      "metadata": {
        "id": "view-in-github",
        "colab_type": "text"
      },
      "source": [
        "<a href=\"https://colab.research.google.com/github/yooshin2/Deep-Learning/blob/main/argparse.ipynb\" target=\"_parent\"><img src=\"https://colab.research.google.com/assets/colab-badge.svg\" alt=\"Open In Colab\"/></a>"
      ]
    },
    {
      "cell_type": "code",
      "metadata": {
        "id": "nHLZWu__ML66"
      },
      "source": [
        "import argparse"
      ],
      "execution_count": null,
      "outputs": []
    },
    {
      "cell_type": "code",
      "metadata": {
        "id": "fhzj644aON7d"
      },
      "source": [
        "parser = argparse.ArgumentParser()\r\n",
        "args = parser.parse_args(\"\")"
      ],
      "execution_count": null,
      "outputs": []
    },
    {
      "cell_type": "code",
      "metadata": {
        "colab": {
          "base_uri": "https://localhost:8080/"
        },
        "id": "9_AFmZ_yOft-",
        "outputId": "b3987dd3-3a9c-4b07-c888-6079606f64fb"
      },
      "source": [
        "args.num_layer = 5\r\n",
        "print(args.num_layer)\r\n",
        "args.in_dim = 100\r\n",
        "print(args, type(args))\r\n",
        "\r\n",
        "linears = []\r\n",
        "for i in range(args.num_layer):\r\n",
        "    linears.append(i)\r\n",
        "\r\n",
        "print(linears)\r\n",
        "\r\n",
        "d = vars(args)\r\n",
        "print(d)"
      ],
      "execution_count": null,
      "outputs": [
        {
          "output_type": "stream",
          "text": [
            "5\n",
            "Namespace(in_dim=100, num_layer=5) <class 'argparse.Namespace'>\n",
            "[0, 1, 2, 3, 4]\n",
            "{'num_layer': 5, 'in_dim': 100}\n"
          ],
          "name": "stdout"
        }
      ]
    }
  ]
}