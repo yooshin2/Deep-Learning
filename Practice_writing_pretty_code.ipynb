{
  "nbformat": 4,
  "nbformat_minor": 0,
  "metadata": {
    "colab": {
      "name": "Practice writing pretty code.ipynb",
      "provenance": [],
      "collapsed_sections": [],
      "authorship_tag": "ABX9TyNrlJp2BoCd5FqeTuKAWD9q",
      "include_colab_link": true
    },
    "kernelspec": {
      "name": "python3",
      "display_name": "Python 3"
    },
    "accelerator": "GPU",
    "widgets": {
      "application/vnd.jupyter.widget-state+json": {
        "acbfc996b4f345d5a9ba56977e2d2a1c": {
          "model_module": "@jupyter-widgets/controls",
          "model_name": "HBoxModel",
          "state": {
            "_view_name": "HBoxView",
            "_dom_classes": [],
            "_model_name": "HBoxModel",
            "_view_module": "@jupyter-widgets/controls",
            "_model_module_version": "1.5.0",
            "_view_count": null,
            "_view_module_version": "1.5.0",
            "box_style": "",
            "layout": "IPY_MODEL_2702366626364fbeb912d5fa1059bd8a",
            "_model_module": "@jupyter-widgets/controls",
            "children": [
              "IPY_MODEL_9193643ae20c4cc6bf38efa151b02bf6",
              "IPY_MODEL_04da11c1a6b0404583599235526ff79c"
            ]
          }
        },
        "2702366626364fbeb912d5fa1059bd8a": {
          "model_module": "@jupyter-widgets/base",
          "model_name": "LayoutModel",
          "state": {
            "_view_name": "LayoutView",
            "grid_template_rows": null,
            "right": null,
            "justify_content": null,
            "_view_module": "@jupyter-widgets/base",
            "overflow": null,
            "_model_module_version": "1.2.0",
            "_view_count": null,
            "flex_flow": null,
            "width": null,
            "min_width": null,
            "border": null,
            "align_items": null,
            "bottom": null,
            "_model_module": "@jupyter-widgets/base",
            "top": null,
            "grid_column": null,
            "overflow_y": null,
            "overflow_x": null,
            "grid_auto_flow": null,
            "grid_area": null,
            "grid_template_columns": null,
            "flex": null,
            "_model_name": "LayoutModel",
            "justify_items": null,
            "grid_row": null,
            "max_height": null,
            "align_content": null,
            "visibility": null,
            "align_self": null,
            "height": null,
            "min_height": null,
            "padding": null,
            "grid_auto_rows": null,
            "grid_gap": null,
            "max_width": null,
            "order": null,
            "_view_module_version": "1.2.0",
            "grid_template_areas": null,
            "object_position": null,
            "object_fit": null,
            "grid_auto_columns": null,
            "margin": null,
            "display": null,
            "left": null
          }
        },
        "9193643ae20c4cc6bf38efa151b02bf6": {
          "model_module": "@jupyter-widgets/controls",
          "model_name": "FloatProgressModel",
          "state": {
            "_view_name": "ProgressView",
            "style": "IPY_MODEL_4563ba704f174021b268d9fd59854b9b",
            "_dom_classes": [],
            "description": "",
            "_model_name": "FloatProgressModel",
            "bar_style": "success",
            "max": 1,
            "_view_module": "@jupyter-widgets/controls",
            "_model_module_version": "1.5.0",
            "value": 1,
            "_view_count": null,
            "_view_module_version": "1.5.0",
            "orientation": "horizontal",
            "min": 0,
            "description_tooltip": null,
            "_model_module": "@jupyter-widgets/controls",
            "layout": "IPY_MODEL_f1801df47a2a41e795cc4f79fd996b90"
          }
        },
        "04da11c1a6b0404583599235526ff79c": {
          "model_module": "@jupyter-widgets/controls",
          "model_name": "HTMLModel",
          "state": {
            "_view_name": "HTMLView",
            "style": "IPY_MODEL_c690c3ccb3e64bc69cb6a89a7d52c0f8",
            "_dom_classes": [],
            "description": "",
            "_model_name": "HTMLModel",
            "placeholder": "​",
            "_view_module": "@jupyter-widgets/controls",
            "_model_module_version": "1.5.0",
            "value": " 170500096/? [00:04&lt;00:00, 36733827.67it/s]",
            "_view_count": null,
            "_view_module_version": "1.5.0",
            "description_tooltip": null,
            "_model_module": "@jupyter-widgets/controls",
            "layout": "IPY_MODEL_52db9663d1c946be9b2a6c155965bbc5"
          }
        },
        "4563ba704f174021b268d9fd59854b9b": {
          "model_module": "@jupyter-widgets/controls",
          "model_name": "ProgressStyleModel",
          "state": {
            "_view_name": "StyleView",
            "_model_name": "ProgressStyleModel",
            "description_width": "initial",
            "_view_module": "@jupyter-widgets/base",
            "_model_module_version": "1.5.0",
            "_view_count": null,
            "_view_module_version": "1.2.0",
            "bar_color": null,
            "_model_module": "@jupyter-widgets/controls"
          }
        },
        "f1801df47a2a41e795cc4f79fd996b90": {
          "model_module": "@jupyter-widgets/base",
          "model_name": "LayoutModel",
          "state": {
            "_view_name": "LayoutView",
            "grid_template_rows": null,
            "right": null,
            "justify_content": null,
            "_view_module": "@jupyter-widgets/base",
            "overflow": null,
            "_model_module_version": "1.2.0",
            "_view_count": null,
            "flex_flow": null,
            "width": null,
            "min_width": null,
            "border": null,
            "align_items": null,
            "bottom": null,
            "_model_module": "@jupyter-widgets/base",
            "top": null,
            "grid_column": null,
            "overflow_y": null,
            "overflow_x": null,
            "grid_auto_flow": null,
            "grid_area": null,
            "grid_template_columns": null,
            "flex": null,
            "_model_name": "LayoutModel",
            "justify_items": null,
            "grid_row": null,
            "max_height": null,
            "align_content": null,
            "visibility": null,
            "align_self": null,
            "height": null,
            "min_height": null,
            "padding": null,
            "grid_auto_rows": null,
            "grid_gap": null,
            "max_width": null,
            "order": null,
            "_view_module_version": "1.2.0",
            "grid_template_areas": null,
            "object_position": null,
            "object_fit": null,
            "grid_auto_columns": null,
            "margin": null,
            "display": null,
            "left": null
          }
        },
        "c690c3ccb3e64bc69cb6a89a7d52c0f8": {
          "model_module": "@jupyter-widgets/controls",
          "model_name": "DescriptionStyleModel",
          "state": {
            "_view_name": "StyleView",
            "_model_name": "DescriptionStyleModel",
            "description_width": "",
            "_view_module": "@jupyter-widgets/base",
            "_model_module_version": "1.5.0",
            "_view_count": null,
            "_view_module_version": "1.2.0",
            "_model_module": "@jupyter-widgets/controls"
          }
        },
        "52db9663d1c946be9b2a6c155965bbc5": {
          "model_module": "@jupyter-widgets/base",
          "model_name": "LayoutModel",
          "state": {
            "_view_name": "LayoutView",
            "grid_template_rows": null,
            "right": null,
            "justify_content": null,
            "_view_module": "@jupyter-widgets/base",
            "overflow": null,
            "_model_module_version": "1.2.0",
            "_view_count": null,
            "flex_flow": null,
            "width": null,
            "min_width": null,
            "border": null,
            "align_items": null,
            "bottom": null,
            "_model_module": "@jupyter-widgets/base",
            "top": null,
            "grid_column": null,
            "overflow_y": null,
            "overflow_x": null,
            "grid_auto_flow": null,
            "grid_area": null,
            "grid_template_columns": null,
            "flex": null,
            "_model_name": "LayoutModel",
            "justify_items": null,
            "grid_row": null,
            "max_height": null,
            "align_content": null,
            "visibility": null,
            "align_self": null,
            "height": null,
            "min_height": null,
            "padding": null,
            "grid_auto_rows": null,
            "grid_gap": null,
            "max_width": null,
            "order": null,
            "_view_module_version": "1.2.0",
            "grid_template_areas": null,
            "object_position": null,
            "object_fit": null,
            "grid_auto_columns": null,
            "margin": null,
            "display": null,
            "left": null
          }
        }
      }
    }
  },
  "cells": [
    {
      "cell_type": "markdown",
      "metadata": {
        "id": "view-in-github",
        "colab_type": "text"
      },
      "source": [
        "<a href=\"https://colab.research.google.com/github/yooshin2/Deep-Learning/blob/main/Practice_writing_pretty_code.ipynb\" target=\"_parent\"><img src=\"https://colab.research.google.com/assets/colab-badge.svg\" alt=\"Open In Colab\"/></a>"
      ]
    },
    {
      "cell_type": "code",
      "metadata": {
        "colab": {
          "base_uri": "https://localhost:8080/"
        },
        "id": "2CNo-7d7PZCE",
        "outputId": "eac6c798-cb56-4f88-fceb-b424a003f75b"
      },
      "source": [
        "!pip install -q torch==1.7.0 torchvision\r\n",
        "import torch\r\n",
        "print(torch.__version__)"
      ],
      "execution_count": null,
      "outputs": [
        {
          "output_type": "stream",
          "text": [
            "1.7.0+cu101\n"
          ],
          "name": "stdout"
        }
      ]
    },
    {
      "cell_type": "code",
      "metadata": {
        "id": "UOX3TiFVP1YJ"
      },
      "source": [
        "import torch\r\n",
        "import torchvision\r\n",
        "import torchvision.transforms as transforms\r\n",
        "import matplotlib.pyplot as plt\r\n",
        "import numpy as np\r\n",
        "import torch.nn as nn\r\n",
        "import torch.optim as optim\r\n",
        "import argparse"
      ],
      "execution_count": null,
      "outputs": []
    },
    {
      "cell_type": "code",
      "metadata": {
        "colab": {
          "base_uri": "https://localhost:8080/",
          "height": 119,
          "referenced_widgets": [
            "acbfc996b4f345d5a9ba56977e2d2a1c",
            "2702366626364fbeb912d5fa1059bd8a",
            "9193643ae20c4cc6bf38efa151b02bf6",
            "04da11c1a6b0404583599235526ff79c",
            "4563ba704f174021b268d9fd59854b9b",
            "f1801df47a2a41e795cc4f79fd996b90",
            "c690c3ccb3e64bc69cb6a89a7d52c0f8",
            "52db9663d1c946be9b2a6c155965bbc5"
          ]
        },
        "id": "yWzTPmZRP-fw",
        "outputId": "3af26fab-5919-423d-ef4e-3a30bba45073"
      },
      "source": [
        "transform = transforms.Compose(\r\n",
        "    [transforms.ToTensor(),\r\n",
        "     transforms.Normalize((0.5, 0.5, 0.5), (0.5, 0.5, 0.5))])\r\n",
        "\r\n",
        "trainset = torchvision.datasets.CIFAR10(root='./data', train=True,\r\n",
        "                                        download=True, transform=transform)\r\n",
        "trainset, valset = torch.utils.data.random_split(trainset, [40000, 10000])\r\n",
        "testset = torchvision.datasets.CIFAR10(root='./data', train=False,\r\n",
        "                                       download=True, transform=transform)\r\n",
        "\r\n",
        "trainloader = torch.utils.data.DataLoader(trainset, batch_size=4,\r\n",
        "                                          shuffle=True, num_workers=2)\r\n",
        "valloader = torch.utils.data.DataLoader(valset, batch_size=4, shuffle=False)\r\n",
        "testloader = torch.utils.data.DataLoader(testset, batch_size=4,\r\n",
        "                                         shuffle=False, num_workers=2)\r\n",
        "\r\n",
        "classes = ('plane', 'car', 'bird', 'cat',\r\n",
        "           'deer', 'dog', 'frog', 'horse', 'ship', 'truck')"
      ],
      "execution_count": null,
      "outputs": [
        {
          "output_type": "stream",
          "text": [
            "Downloading https://www.cs.toronto.edu/~kriz/cifar-10-python.tar.gz to ./data/cifar-10-python.tar.gz\n"
          ],
          "name": "stdout"
        },
        {
          "output_type": "display_data",
          "data": {
            "application/vnd.jupyter.widget-view+json": {
              "model_id": "acbfc996b4f345d5a9ba56977e2d2a1c",
              "version_minor": 0,
              "version_major": 2
            },
            "text/plain": [
              "HBox(children=(FloatProgress(value=1.0, bar_style='info', max=1.0), HTML(value='')))"
            ]
          },
          "metadata": {
            "tags": []
          }
        },
        {
          "output_type": "stream",
          "text": [
            "Extracting ./data/cifar-10-python.tar.gz to ./data\n",
            "Files already downloaded and verified\n",
            "\n"
          ],
          "name": "stdout"
        }
      ]
    },
    {
      "cell_type": "code",
      "metadata": {
        "colab": {
          "base_uri": "https://localhost:8080/",
          "height": 156
        },
        "id": "vreHeSC_QHxT",
        "outputId": "1789ac94-f2ed-4cfd-83ac-fb5474671043"
      },
      "source": [
        "# functions to show an image\r\n",
        "\r\n",
        "\r\n",
        "def imshow(img):\r\n",
        "    img = img / 2 + 0.5     # unnormalize\r\n",
        "    npimg = img.numpy()\r\n",
        "    plt.imshow(np.transpose(npimg, (1, 2, 0)))\r\n",
        "    plt.show()\r\n",
        "\r\n",
        "\r\n",
        "# get some random training images\r\n",
        "dataiter = iter(trainloader)\r\n",
        "images, labels = dataiter.next()\r\n",
        "\r\n",
        "# show images\r\n",
        "imshow(torchvision.utils.make_grid(images))\r\n",
        "# print labels\r\n",
        "print(' '.join('%11s' % classes[labels[j]] for j in range(4)))"
      ],
      "execution_count": 13,
      "outputs": [
        {
          "output_type": "display_data",
          "data": {
            "image/png": "[encoded data removed]",
            "text/plain": [
              "<Figure size 432x288 with 1 Axes>"
            ]
          },
          "metadata": {
            "tags": [],
            "needs_background": "light"
          }
        },
        {
          "output_type": "stream",
          "text": [
            "       bird        ship        bird         dog\n"
          ],
          "name": "stdout"
        }
      ]
    },
    {
      "cell_type": "code",
      "metadata": {
        "id": "FTFRoUrheXo7"
      },
      "source": [
        "class MLP(nn.Module):\r\n",
        "    def __init__(self, in_dim, out_dim, hid_dim, n_layer, act):\r\n",
        "        super(MLP, self).__init__()\r\n",
        "        self.in_dim = in_dim\r\n",
        "        self.out_dim = out_dim\r\n",
        "        self.hid_dim = hid_dim\r\n",
        "        self.n_layer = n_layer\r\n",
        "        self.act = act\r\n",
        "\r\n",
        "        self.fc = nn.Linear(self.in_dim, self.hid_dim)\r\n",
        "        self.linears = nn.ModuleList()\r\n",
        "\r\n",
        "        for i in range(self.n_layer - 1):\r\n",
        "            self.linears.append(nn.Linear(self.hid_dim, self.hid_dim))\r\n",
        "        self.fc2 = nn.Linear(self.hid_dim, out_dim)\r\n",
        "\r\n",
        "        if self.act == 'relu':\r\n",
        "            self.act = nn.ReLU()\r\n",
        "        \r\n",
        "    def forward(self, x):\r\n",
        "        x = self.act(self.fc(x))\r\n",
        "        for fc in self.linears:\r\n",
        "            x = self.act(fc(x))\r\n",
        "        x = self.fc2(x)\r\n",
        "        return x\r\n",
        "\r\n",
        "net = MLP(3072, 10, 100, 2, 'relu')"
      ],
      "execution_count": null,
      "outputs": []
    },
    {
      "cell_type": "code",
      "metadata": {
        "id": "9WN38Y8griq2"
      },
      "source": [
        "# ====== Measure Test Accuracy ====== #\r\n",
        "\r\n",
        "correct = 0\r\n",
        "total = 0\r\n",
        "with torch.no_grad():\r\n",
        "    for data in testloader:\r\n",
        "        images, labels = data\r\n",
        "        images = images.view(-1, 3072)\r\n",
        "        outputs = net(images)\r\n",
        "        _, predicted = torch.max(outputs.data, 1)\r\n",
        "        total += labels.size(0)\r\n",
        "        correct += (predicted == labels).sum().item()\r\n",
        "\r\n",
        "    test_acc = 100 * correct / total"
      ],
      "execution_count": null,
      "outputs": []
    },
    {
      "cell_type": "code",
      "metadata": {
        "id": "n9K5Oq9yCxd3"
      },
      "source": [
        "# ====== Experiment ====== #\r\n",
        "\r\n",
        "def experiment(args):\r\n",
        "    net = MLP(args.in_dim, args.out_dim, args.hid_dim, args.n_layer, args.act)\r\n",
        "    net.cuda()\r\n",
        "\r\n",
        "    criterion = nn.CrossEntropyLoss()\r\n",
        "    optimizer = optim.SGD(net.parameters(), lr=args.lr, momentum=args.mm)\r\n",
        "    \r\n",
        "    for epoch in range(args.epoch):  # loop over the dataset multiple times\r\n",
        "\r\n",
        "    # ====== Train ====== #\r\n",
        "        net.train()\r\n",
        "        \r\n",
        "        running_loss = 0.0\r\n",
        "        train_loss = 0.0\r\n",
        "        for i, data in enumerate(trainloader, 0):\r\n",
        "            optimizer.zero_grad()\r\n",
        "\r\n",
        "            # get the inputs; data is a list of [inputs, labels]\r\n",
        "            inputs, labels = data\r\n",
        "            inputs = inputs.view(-1, 3072)\r\n",
        "            inputs = inputs.cuda()\r\n",
        "            labels = labels.cuda()\r\n",
        "\r\n",
        "            # zero the parameter gradients\r\n",
        "            optimizer.zero_grad()\r\n",
        "\r\n",
        "            # forward + backward + optimize\r\n",
        "            outputs = net(inputs)\r\n",
        "            loss = criterion(outputs, labels)\r\n",
        "            loss.backward()\r\n",
        "            optimizer.step()\r\n",
        "\r\n",
        "            # print statistics\r\n",
        "            running_loss += loss.item()\r\n",
        "            train_loss += loss.item()\r\n",
        "            if i % 2000 == 1999:    # print every 2000 mini-batches\r\n",
        "                print('[%d, %5d] loss: %.3f' %\r\n",
        "                      (epoch + 1, i + 1, running_loss / 2000))\r\n",
        "                running_loss = 0.0\r\n",
        "        train_loss /= len(trainloader)\r\n",
        "\r\n",
        "    # ====== Validation ====== #\r\n",
        "        net.eval()\r\n",
        "\r\n",
        "        correct = 0\r\n",
        "        total = 0\r\n",
        "        val_loss = 0\r\n",
        "        with torch.no_grad():\r\n",
        "            for data in valloader:\r\n",
        "                images, labels = data\r\n",
        "                images = images.view(-1, 3072)\r\n",
        "                images = images.cuda()\r\n",
        "                labels = labels.cuda()\r\n",
        "                outputs = net(images)\r\n",
        "\r\n",
        "                loss = criterion(outputs, labels)\r\n",
        "                val_loss += loss\r\n",
        "\r\n",
        "                _, predicted = torch.max(outputs.data, 1)\r\n",
        "                total += labels.size(0)\r\n",
        "                correct += (predicted == labels).sum().item()\r\n",
        "            \r\n",
        "            val_loss /= len(valloader)\r\n",
        "            val_acc = 100 * correct / total\r\n",
        "\r\n",
        "        print('Epoch: {}, Train Loss: {}, Val Loss: {}, Val Acc: {}'.format(epoch, train_loss, val_loss, val_acc))\r\n",
        "\r\n",
        "    # ====== Evaluation ====== #\r\n",
        "    net.eval()\r\n",
        "\r\n",
        "    correct = 0\r\n",
        "    total = 0\r\n",
        "    with torch.no_grad():\r\n",
        "        for data in testloader:\r\n",
        "            images, labels = data\r\n",
        "            images = images.view(-1, 3072)\r\n",
        "            images = images.cuda()\r\n",
        "            labels = labels.cuda()\r\n",
        "\r\n",
        "            outputs = net(images)\r\n",
        "            _, predicted = torch.max(outputs.data, 1)\r\n",
        "            total += labels.size(0)\r\n",
        "            correct += (predicted == labels).sum().item()\r\n",
        "\r\n",
        "        test_acc = 100 * correct / total\r\n",
        "\r\n",
        "        print('Accuracy of the network on the 10000 test images: {}'.format(test_acc))"
      ],
      "execution_count": null,
      "outputs": []
    },
    {
      "cell_type": "code",
      "metadata": {
        "colab": {
          "base_uri": "https://localhost:8080/"
        },
        "id": "yL4hc3RfDAtI",
        "outputId": "8dffb978-523e-4be8-bef1-7d9d1ed241ec"
      },
      "source": [
        "seed = 123\r\n",
        "np.random.seed(seed)\r\n",
        "torch.manual_seed(seed)\r\n",
        "\r\n",
        "parser = argparse.ArgumentParser()\r\n",
        "args = parser.parse_args(\"\")\r\n",
        "\r\n",
        "args.in_dim = 3072\r\n",
        "args.out_dim = 10\r\n",
        "args.hid_dim = 100\r\n",
        "args.n_layer = 5\r\n",
        "args.act = 'relu'\r\n",
        "\r\n",
        "args.lr = 0.001\r\n",
        "args.mm =0.9\r\n",
        "\r\n",
        "args.epoch = 2\r\n",
        "\r\n",
        "list_var1 = [4, 5, 6]\r\n",
        "list_var2 = [50, 100, 150]\r\n",
        "\r\n",
        "experiment(args)\r\n",
        "\r\n",
        "#experiment\r\n",
        "#for var1 in list_var1:\r\n",
        "#    for var2 in list_var2:\r\n",
        "#        args.n_layer = var1\r\n",
        "#        args.hid_dim = var2\r\n",
        "#        result = experiment(args)\r\n",
        "#        print(result)"
      ],
      "execution_count": null,
      "outputs": [
        {
          "output_type": "stream",
          "text": [
            "[1,  2000] loss: 2.296\n",
            "[1,  4000] loss: 2.108\n",
            "[1,  6000] loss: 1.914\n",
            "[1,  8000] loss: 1.795\n",
            "[1, 10000] loss: 1.717\n",
            "Epoch: 0, Train Loss: 1.96602335806787, Val Loss: 1.7238528728485107, Val Acc: 38.08\n",
            "[2,  2000] loss: 1.645\n",
            "[2,  4000] loss: 1.632\n",
            "[2,  6000] loss: 1.596\n",
            "[2,  8000] loss: 1.572\n",
            "[2, 10000] loss: 1.561\n",
            "Epoch: 1, Train Loss: 1.600961656293273, Val Loss: 1.562974214553833, Val Acc: 44.46\n",
            "Accuracy of the network on the 10000 test images: 45.79\n"
          ],
          "name": "stdout"
        }
      ]
    }
  ]
}